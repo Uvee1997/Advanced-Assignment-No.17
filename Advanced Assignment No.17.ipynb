{
 "cells": [
  {
   "cell_type": "markdown",
   "id": "4c36b741",
   "metadata": {},
   "source": [
    "1) Explain the difference between greedy and non-greedy syntax with visual terms in as few words\n",
    "   as possible. What is the bare minimum effort required to transform a greedy pattern into a non-greedy\n",
    "   one? What characters or characters can you introduce or change?\n",
    "   \n",
    ":- The greedy match will try to match as many repetitions of the quantified pattern as possible. The non-greedy match will    try to match as few repetitions of the quantified pattern as possible. By using regular expression(Regex/RE) can be used    transfer greedy pattern intinon-greedy.   "
   ]
  },
  {
   "cell_type": "markdown",
   "id": "a5a8164b",
   "metadata": {},
   "source": [
    "2) When exactly does greedy versus non-greedy make a difference?  What if you'r looking for a\n",
    "   non-greedy match but the only one available is greedy?\n",
    "   \n",
    ":- It means the greedy quantifiers will match their preceding elements as much as possible to return to the biggest match      possible. On the other hand, the non-greedy quantifiers will match as little as possible to return the smallest match      possible. Basically greedy & non-greedy elements are exactly opposite to each other, so if we are looking for non-greedy\n",
    "   but we have avability of greedy then definatly we get different output."
   ]
  },
  {
   "cell_type": "markdown",
   "id": "79eecf08",
   "metadata": {},
   "source": [
    "3) In a simple match of a string, which looks only for one match and does not do any replacement, is\n",
    "   the use of a nontagged group likely to make any practical difference?\n",
    "    \n",
    ":- No there is no practical difference, if we use nontagged group.    "
   ]
  },
  {
   "cell_type": "markdown",
   "id": "a0a03a09",
   "metadata": {},
   "source": [
    "5) Unlike a normal regex pattern, a look-ahead condition does not consume the characters it examines. \n",
    "   Describe a situation in which this could make a difference in the results of your programme.\n",
    "    \n",
    ":- regular expressions, or regexes, is often used to mean the specific, standard textual syntax for representing patterns      for matching text, as distinct from the mathematical notation described below. Each character in a regular expression      (that is, each character in the string describing its pattern) is either a metacharacter, having a special meaning, or a     regular character that has a literal meaning. When entering a regex in a programming language, they may be represented     as a usual string literal, hence usually quoted; this is common in C, Java, and Python for instance, where the regex re     is entered as \"re\". However, they are often written with slashes as delimiters, as in /re/ for the regex re. This           originates in ed, where / is the editor command for searching, and an expression /re/ can be used to specify a range of     lines (matching the pattern), which can be combined with other commands on either side, most famously g/re/p as in grep    (\"global regex print\"), which is included in most Unix-based operating systems, such as Linux distributions.     "
   ]
  },
  {
   "cell_type": "markdown",
   "id": "9b366bf9",
   "metadata": {},
   "source": [
    "6) In standard expressions, what is the difference between positive look-ahead and negative look-ahead?\n",
    "\n",
    ":- Positive lookahead: (?= «pattern») matches if pattern matches what comes after the current location in the input string.    Negative lookahead: (?! «pattern») matches if pattern does not match what comes after the current location in the input    string. "
   ]
  },
  {
   "cell_type": "markdown",
   "id": "5f955589",
   "metadata": {},
   "source": [
    "7) What is the benefit of referring to groups by name rather than by number in a standard expression?\n",
    "\n",
    ":- While using number refering it is better for identification & for labeling."
   ]
  },
  {
   "cell_type": "markdown",
   "id": "4e1fa47c",
   "metadata": {},
   "source": [
    "8) Can you identify repeated items within a target string using named groups, as in \"The cow jumped over the moon\"?\n",
    "\n",
    ":- Using the GROUP BY clause to group all rows by the target string – i.e. the strings you want to check for duplicate        values on.\n",
    "   Using the COUNT function in the HAVING clause to check if any of the groups have more than 1 entry; those would be the      duplicate values.\n",
    "   In above sentense 'o' repeated 4 times, 't' repeated 2 times, 'e' repeated 2 times, 'm' repeated twice"
   ]
  },
  {
   "cell_type": "markdown",
   "id": "d07c7af6",
   "metadata": {},
   "source": [
    "9) When parsing a string, what is at least one thing that the Scanner interface does for you that the\n",
    "   re.findall feature does not?\n",
    "    \n",
    ":- Scanner interface which can parse primitive types and strings using regular expressions.\n",
    "   A Scanner breaks its input into tokens using a delimiter pattern, which by default matches whitespace. The resulting        tokens may then be converted into values of different types using the various next methods. Scanner can read the text      from any object which implements readable interface.     "
   ]
  },
  {
   "cell_type": "markdown",
   "id": "3f467e7f",
   "metadata": {},
   "source": [
    "10) Does a scanner object have to be named scanner?\n",
    "\n",
    ":- A scanner object in java is used to scan something from input stream or input buffer of your machine. Normally we use a    scanner object for taking input from user.\n",
    "   \n",
    "   For example consider the following code\n",
    "   Scanner sc = new Scanner();\n",
    "   int a = sc.nextInt();\n",
    "   \n",
    "   In this code sc is scanner type object.You can visualize like that sc object scan an integer number from input buffer or\n",
    "   input stream & set that interger value inside the variable a."
   ]
  }
 ],
 "metadata": {
  "kernelspec": {
   "display_name": "Python 3 (ipykernel)",
   "language": "python",
   "name": "python3"
  },
  "language_info": {
   "codemirror_mode": {
    "name": "ipython",
    "version": 3
   },
   "file_extension": ".py",
   "mimetype": "text/x-python",
   "name": "python",
   "nbconvert_exporter": "python",
   "pygments_lexer": "ipython3",
   "version": "3.9.7"
  }
 },
 "nbformat": 4,
 "nbformat_minor": 5
}
